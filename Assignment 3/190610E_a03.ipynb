{
 "cells": [
  {
   "cell_type": "markdown",
   "metadata": {},
   "source": [
    "## EN2550: Assignment 03 on Object Counting on a Conveyor Belt\n",
    "\n",
    "#### Name: Sumanasekara W.K.G.G. <br/> Index: 190610E\n",
    "\n",
    "### Connected Component Analysis"
   ]
  },
  {
   "cell_type": "code",
   "execution_count": 110,
   "metadata": {},
   "outputs": [],
   "source": [
    "import cv2 as cv\n",
    "import numpy as np\n",
    "import matplotlib.pyplot as plt\n",
    "import pandas as pd"
   ]
  },
  {
   "cell_type": "markdown",
   "metadata": {},
   "source": [
    "##### Importing images"
   ]
  },
  {
   "cell_type": "code",
   "execution_count": 111,
   "metadata": {},
   "outputs": [
    {
     "data": {
      "image/png": "[encoded data removed]",
      "text/plain": [
       "<Figure size 720x720 with 3 Axes>"
      ]
     },
     "metadata": {
      "needs_background": "light"
     },
     "output_type": "display_data"
    }
   ],
   "source": [
    "hexnut_template = cv.imread('hexnut_template.png', cv.IMREAD_COLOR)\n",
    "squarenut_template = cv.imread('squarenut_template.png', cv.IMREAD_COLOR)\n",
    "conveyor_f100 = cv.imread('conveyor_f100.png', cv.IMREAD_COLOR)\n",
    "\n",
    "hexnut_template = cv.cvtColor(hexnut_template, cv.COLOR_BGR2RGB)\n",
    "squarenut_template = cv.cvtColor(squarenut_template, cv.COLOR_BGR2RGB)\n",
    "conveyor_f100 = cv.cvtColor(conveyor_f100, cv.COLOR_BGR2RGB)\n",
    "\n",
    "fig, ax = plt. subplots(1,3, figsize=(10, 10))\n",
    "ax[0].imshow(hexnut_template)\n",
    "ax[0].set_title(\"Hexagonal nut\")\n",
    "ax[0].axis(\"off\")\n",
    "ax[1].imshow(squarenut_template)\n",
    "ax[1].set_title(\"Square nut\")\n",
    "ax[1].axis(\"off\")\n",
    "ax[2].imshow(conveyor_f100)\n",
    "ax[2].set_title(\"Conveyor image 1\")\n",
    "ax[2].axis(\"off\")\n",
    "plt.show()\n"
   ]
  },
  {
   "cell_type": "markdown",
   "metadata": {},
   "source": [
    "##### Thresholding with otsu algorithm "
   ]
  },
  {
   "cell_type": "code",
   "execution_count": 112,
   "metadata": {},
   "outputs": [
    {
     "name": "stdout",
     "output_type": "stream",
     "text": [
      "Threshold for hexagonal nut template: 20.0\n",
      "Threshold for square nut template: 20.0\n",
      "Threshold for conveyor: 20.0\n"
     ]
    }
   ],
   "source": [
    "hexnut_template_gray = cv.cvtColor(hexnut_template, cv.COLOR_RGB2GRAY)\n",
    "squarenut_template_gray = cv.cvtColor(squarenut_template, cv.COLOR_RGB2GRAY)\n",
    "conveyor_f100_gray = cv.cvtColor(conveyor_f100, cv.COLOR_RGB2GRAY)\n",
    "\n",
    "ret0,hexnut_template_gray = cv.threshold(hexnut_template_gray,0,255,cv.THRESH_BINARY_INV+cv.THRESH_OTSU)\n",
    "ret1,squarenut_template_gray = cv.threshold(squarenut_template_gray,0,255,cv.THRESH_BINARY_INV+cv.THRESH_OTSU)\n",
    "ret2,conveyor_f100_gray = cv.threshold(conveyor_f100_gray,0,255,cv.THRESH_BINARY_INV+cv.THRESH_OTSU)\n",
    "\n",
    "print(\"Threshold for hexagonal nut template:\", ret0)\n",
    "print(\"Threshold for square nut template:\", ret1)\n",
    "print(\"Threshold for conveyor:\", ret2)"
   ]
  },
  {
   "cell_type": "markdown",
   "metadata": {},
   "source": [
    "##### Marphological closing"
   ]
  },
  {
   "cell_type": "code",
   "execution_count": 113,
   "metadata": {},
   "outputs": [],
   "source": [
    "kernel = np.ones((3,3), np.uint8)\n",
    "\n",
    "hexnut_template_gray = cv.morphologyEx(hexnut_template_gray, cv.MORPH_CLOSE, kernel)\n",
    "squarenut_template_gray = cv.morphologyEx(squarenut_template_gray, cv.MORPH_CLOSE, kernel)\n",
    "conveyor_f100_gray = cv.morphologyEx(conveyor_f100_gray, cv.MORPH_CLOSE, kernel)"
   ]
  },
  {
   "cell_type": "code",
   "execution_count": 114,
   "metadata": {},
   "outputs": [],
   "source": [
    "def create_table(retval, stats, centroids):\n",
    "    if retval == 2: print(\"Only a single component is detected\")\n",
    "    else: print(\"There are\", retval-1, \"components are detected excluding the background.\")\n",
    "\n",
    "    table = {\n",
    "                'Name': [\"Component\" + str(i) for i in range(1, retval)],\n",
    "                \"X coordinate\": stats[1:, 0],\n",
    "                \"Y coordinate\": stats[1:, 1],\n",
    "                \"Length in X direction\": stats[1:, 2],\n",
    "                \"Length in y direction\": stats[1:, 3],\n",
    "                \"Area\": stats[1:, 4],\n",
    "                \"Centroid\": [\"({}, {})\".format(round(center[0], 3), round(center[1], 3)) for center in centroids[1:]]\n",
    "            }\n",
    "    df = pd.DataFrame(table)     \n",
    "    return df"
   ]
  },
  {
   "cell_type": "markdown",
   "metadata": {},
   "source": [
    "##### Connected component analysis for hexagonal nut"
   ]
  },
  {
   "cell_type": "code",
   "execution_count": 115,
   "metadata": {},
   "outputs": [
    {
     "name": "stdout",
     "output_type": "stream",
     "text": [
      "Only a single component is detected\n"
     ]
    },
    {
     "data": {
      "text/html": [
       "<div>\n",
       "<style scoped>\n",
       "    .dataframe tbody tr th:only-of-type {\n",
       "        vertical-align: middle;\n",
       "    }\n",
       "\n",
       "    .dataframe tbody tr th {\n",
       "        vertical-align: top;\n",
       "    }\n",
       "\n",
       "    .dataframe thead th {\n",
       "        text-align: right;\n",
       "    }\n",
       "</style>\n",
       "<table border=\"1\" class=\"dataframe\">\n",
       "  <thead>\n",
       "    <tr style=\"text-align: right;\">\n",
       "      <th></th>\n",
       "      <th>Name</th>\n",
       "      <th>X coordinate</th>\n",
       "      <th>Y coordinate</th>\n",
       "      <th>Length in X direction</th>\n",
       "      <th>Length in y direction</th>\n",
       "      <th>Area</th>\n",
       "      <th>Centroid</th>\n",
       "    </tr>\n",
       "  </thead>\n",
       "  <tbody>\n",
       "    <tr>\n",
       "      <th>0</th>\n",
       "      <td>Component1</td>\n",
       "      <td>10</td>\n",
       "      <td>16</td>\n",
       "      <td>101</td>\n",
       "      <td>88</td>\n",
       "      <td>4728</td>\n",
       "      <td>(59.834, 59.224)</td>\n",
       "    </tr>\n",
       "  </tbody>\n",
       "</table>\n",
       "</div>"
      ],
      "text/plain": [
       "         Name  X coordinate  Y coordinate  Length in X direction  \\\n",
       "0  Component1            10            16                    101   \n",
       "\n",
       "   Length in y direction  Area          Centroid  \n",
       "0                     88  4728  (59.834, 59.224)  "
      ]
     },
     "execution_count": 115,
     "metadata": {},
     "output_type": "execute_result"
    }
   ],
   "source": [
    "retval, labels, stats, centroids = cv.connectedComponentsWithStats(hexnut_template_gray)\n",
    "colormapped = cv.applyColorMap((labels/np.amax(labels)*255).astype('uint8'), cv.COLORMAP_PARULA)\n",
    "\n",
    "create_table(retval, stats, centroids)"
   ]
  },
  {
   "cell_type": "markdown",
   "metadata": {},
   "source": [
    "##### Connected component analysis for square nut"
   ]
  },
  {
   "cell_type": "code",
   "execution_count": 116,
   "metadata": {},
   "outputs": [
    {
     "name": "stdout",
     "output_type": "stream",
     "text": [
      "Only a single component is detected\n"
     ]
    },
    {
     "data": {
      "text/html": [
       "<div>\n",
       "<style scoped>\n",
       "    .dataframe tbody tr th:only-of-type {\n",
       "        vertical-align: middle;\n",
       "    }\n",
       "\n",
       "    .dataframe tbody tr th {\n",
       "        vertical-align: top;\n",
       "    }\n",
       "\n",
       "    .dataframe thead th {\n",
       "        text-align: right;\n",
       "    }\n",
       "</style>\n",
       "<table border=\"1\" class=\"dataframe\">\n",
       "  <thead>\n",
       "    <tr style=\"text-align: right;\">\n",
       "      <th></th>\n",
       "      <th>Name</th>\n",
       "      <th>X coordinate</th>\n",
       "      <th>Y coordinate</th>\n",
       "      <th>Length in X direction</th>\n",
       "      <th>Length in y direction</th>\n",
       "      <th>Area</th>\n",
       "      <th>Centroid</th>\n",
       "    </tr>\n",
       "  </thead>\n",
       "  <tbody>\n",
       "    <tr>\n",
       "      <th>0</th>\n",
       "      <td>Component1</td>\n",
       "      <td>24</td>\n",
       "      <td>24</td>\n",
       "      <td>72</td>\n",
       "      <td>72</td>\n",
       "      <td>3227</td>\n",
       "      <td>(59.197, 59.197)</td>\n",
       "    </tr>\n",
       "  </tbody>\n",
       "</table>\n",
       "</div>"
      ],
      "text/plain": [
       "         Name  X coordinate  Y coordinate  Length in X direction  \\\n",
       "0  Component1            24            24                     72   \n",
       "\n",
       "   Length in y direction  Area          Centroid  \n",
       "0                     72  3227  (59.197, 59.197)  "
      ]
     },
     "execution_count": 116,
     "metadata": {},
     "output_type": "execute_result"
    }
   ],
   "source": [
    "retval, labels, stats, centroids = cv.connectedComponentsWithStats(squarenut_template_gray)\n",
    "colormapped = cv.applyColorMap((labels/np.amax(labels)*255).astype('uint8'), cv.COLORMAP_PARULA)\n",
    "\n",
    "create_table(retval, stats, centroids)"
   ]
  },
  {
   "cell_type": "markdown",
   "metadata": {},
   "source": [
    "##### Connected component analysis for conveyor image 1"
   ]
  },
  {
   "cell_type": "code",
   "execution_count": 117,
   "metadata": {},
   "outputs": [
    {
     "name": "stdout",
     "output_type": "stream",
     "text": [
      "There are 4 components are detected excluding the background.\n"
     ]
    },
    {
     "data": {
      "text/html": [
       "<div>\n",
       "<style scoped>\n",
       "    .dataframe tbody tr th:only-of-type {\n",
       "        vertical-align: middle;\n",
       "    }\n",
       "\n",
       "    .dataframe tbody tr th {\n",
       "        vertical-align: top;\n",
       "    }\n",
       "\n",
       "    .dataframe thead th {\n",
       "        text-align: right;\n",
       "    }\n",
       "</style>\n",
       "<table border=\"1\" class=\"dataframe\">\n",
       "  <thead>\n",
       "    <tr style=\"text-align: right;\">\n",
       "      <th></th>\n",
       "      <th>Name</th>\n",
       "      <th>X coordinate</th>\n",
       "      <th>Y coordinate</th>\n",
       "      <th>Length in X direction</th>\n",
       "      <th>Length in y direction</th>\n",
       "      <th>Area</th>\n",
       "      <th>Centroid</th>\n",
       "    </tr>\n",
       "  </thead>\n",
       "  <tbody>\n",
       "    <tr>\n",
       "      <th>0</th>\n",
       "      <td>Component1</td>\n",
       "      <td>1454</td>\n",
       "      <td>150</td>\n",
       "      <td>92</td>\n",
       "      <td>100</td>\n",
       "      <td>4636</td>\n",
       "      <td>(1499.242, 199.285)</td>\n",
       "    </tr>\n",
       "    <tr>\n",
       "      <th>1</th>\n",
       "      <td>Component2</td>\n",
       "      <td>1259</td>\n",
       "      <td>359</td>\n",
       "      <td>82</td>\n",
       "      <td>82</td>\n",
       "      <td>3087</td>\n",
       "      <td>(1299.183, 399.183)</td>\n",
       "    </tr>\n",
       "    <tr>\n",
       "      <th>2</th>\n",
       "      <td>Component3</td>\n",
       "      <td>1459</td>\n",
       "      <td>459</td>\n",
       "      <td>82</td>\n",
       "      <td>82</td>\n",
       "      <td>3087</td>\n",
       "      <td>(1499.183, 499.183)</td>\n",
       "    </tr>\n",
       "    <tr>\n",
       "      <th>3</th>\n",
       "      <td>Component4</td>\n",
       "      <td>650</td>\n",
       "      <td>550</td>\n",
       "      <td>101</td>\n",
       "      <td>101</td>\n",
       "      <td>3144</td>\n",
       "      <td>(700.0, 600.0)</td>\n",
       "    </tr>\n",
       "  </tbody>\n",
       "</table>\n",
       "</div>"
      ],
      "text/plain": [
       "         Name  X coordinate  Y coordinate  Length in X direction  \\\n",
       "0  Component1          1454           150                     92   \n",
       "1  Component2          1259           359                     82   \n",
       "2  Component3          1459           459                     82   \n",
       "3  Component4           650           550                    101   \n",
       "\n",
       "   Length in y direction  Area             Centroid  \n",
       "0                    100  4636  (1499.242, 199.285)  \n",
       "1                     82  3087  (1299.183, 399.183)  \n",
       "2                     82  3087  (1499.183, 499.183)  \n",
       "3                    101  3144       (700.0, 600.0)  "
      ]
     },
     "execution_count": 117,
     "metadata": {},
     "output_type": "execute_result"
    }
   ],
   "source": [
    "retval, labels, stats, centroids = cv.connectedComponentsWithStats(conveyor_f100_gray)\n",
    "colormapped = cv.applyColorMap((labels/np.amax(labels)*255).astype('uint8'), cv.COLORMAP_PARULA)\n",
    "\n",
    "create_table(retval, stats, centroids)"
   ]
  },
  {
   "cell_type": "markdown",
   "metadata": {},
   "source": [
    "##### Contour detection"
   ]
  },
  {
   "cell_type": "code",
   "execution_count": 118,
   "metadata": {},
   "outputs": [
    {
     "data": {
      "image/png": "[encoded data removed]",
      "text/plain": [
       "<Figure size 432x288 with 1 Axes>"
      ]
     },
     "metadata": {
      "needs_background": "light"
     },
     "output_type": "display_data"
    }
   ],
   "source": [
    "conveyor_f100_shape = np.ones_like(conveyor_f100)\n",
    "\n",
    "conveyor_f100_contours, hierarchy = cv.findContours(conveyor_f100_gray, cv.RETR_EXTERNAL, cv.CHAIN_APPROX_SIMPLE)\n",
    "cv.drawContours(conveyor_f100_shape, conveyor_f100_contours, -1, (0,255,0), 3)\n",
    "\n",
    "plt.imshow(conveyor_f100_shape)\n",
    "plt.title(\"Contours in conveyor image 1\")\n",
    "plt.axis('off')\n",
    "plt.show()"
   ]
  },
  {
   "cell_type": "markdown",
   "metadata": {},
   "source": [
    "### Detecting Objects on a Synthetic Conveyor"
   ]
  },
  {
   "cell_type": "code",
   "execution_count": 119,
   "metadata": {},
   "outputs": [],
   "source": [
    "hexnut_template_contours, hierarchy = cv.findContours(hexnut_template_gray, cv.RETR_EXTERNAL, cv.CHAIN_APPROX_SIMPLE)\n",
    "hexnut_template_contours = hexnut_template_contours[0]\n",
    "squarenut_template_contours, hierarchy = cv.findContours(squarenut_template_gray, cv.RETR_EXTERNAL, cv.CHAIN_APPROX_SIMPLE)\n",
    "squarenut_template_contours = squarenut_template_contours[0]"
   ]
  },
  {
   "cell_type": "code",
   "execution_count": 120,
   "metadata": {},
   "outputs": [],
   "source": [
    "hexnuts, squarenuts = [], []\n",
    "thres = 1/1000\n",
    "\n",
    "for index, contour in enumerate(conveyor_f100_contours):\n",
    "    score = cv.matchShapes(squarenut_template_contours,contour,1,0.0)\n",
    "    if score < thres: squarenuts.append(index)\n",
    "\n",
    "    score = cv.matchShapes(hexnut_template_contours,contour,1,0.0)\n",
    "    if score < thres: hexnuts.append(index)\n"
   ]
  },
  {
   "cell_type": "code",
   "execution_count": 121,
   "metadata": {},
   "outputs": [
    {
     "data": {
      "image/png": "[encoded data removed]",
      "text/plain": [
       "<Figure size 432x288 with 1 Axes>"
      ]
     },
     "metadata": {
      "needs_background": "light"
     },
     "output_type": "display_data"
    }
   ],
   "source": [
    "conveyor_f100_shape = np.ones_like(conveyor_f100)\n",
    "\n",
    "for index in hexnuts:\n",
    "    cv.drawContours(conveyor_f100_shape, conveyor_f100_contours, index, (0, 255, 0), 3)\n",
    "\n",
    "for index in squarenuts:\n",
    "    cv.drawContours(conveyor_f100_shape, conveyor_f100_contours, index, (255, 0 ,0), 3)\n",
    "\n",
    "cv.putText(conveyor_f100_shape, \"No of square nuts = {}\".format(len(squarenuts)), (20, 50), cv.FONT_HERSHEY_SIMPLEX, 1.5, (255, 255, 255), 2, cv.LINE_AA)\n",
    "cv.putText(conveyor_f100_shape, \"No of hexagonal nuts = {}\".format(len(hexnuts)), (20, 100), cv.FONT_HERSHEY_SIMPLEX, 1.5, (255, 255, 255), 2, cv.LINE_AA)\n",
    "\n",
    "plt.imshow(conveyor_f100_shape)\n",
    "plt.title(\"Object detection in conveyor image 1\")\n",
    "plt.axis('off')\n",
    "plt.show()"
   ]
  }
 ],
 "metadata": {
  "interpreter": {
   "hash": "9164a3399a70d355c381b62813f30880ed90ca5a6f321bf0d85375640bda7ee5"
  },
  "kernelspec": {
   "display_name": "Python 3.7.9 64-bit",
   "language": "python",
   "name": "python3"
  },
  "language_info": {
   "codemirror_mode": {
    "name": "ipython",
    "version": 3
   },
   "file_extension": ".py",
   "mimetype": "text/x-python",
   "name": "python",
   "nbconvert_exporter": "python",
   "pygments_lexer": "ipython3",
   "version": "3.7.9"
  },
  "orig_nbformat": 4
 },
 "nbformat": 4,
 "nbformat_minor": 2
}
