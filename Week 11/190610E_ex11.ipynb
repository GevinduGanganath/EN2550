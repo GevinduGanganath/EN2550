{
 "cells": [
  {
   "cell_type": "markdown",
   "metadata": {},
   "source": [
    "#### Name: Sumanasekara W.K.G.G. <br/> Index: 190610E"
   ]
  },
  {
   "cell_type": "code",
   "execution_count": 2,
   "metadata": {},
   "outputs": [],
   "source": [
    "import numpy as np\n",
    "import tensorflow as tf\n",
    "from tensorflow import keras \n",
    "from keras import datasets, layers, models"
   ]
  },
  {
   "cell_type": "code",
   "execution_count": 50,
   "metadata": {},
   "outputs": [
    {
     "name": "stdout",
     "output_type": "stream",
     "text": [
      "train_images.shape:, (60000, 32, 32)\n",
      "train_labels.shape: (60000,)\n",
      "test_images.shape: (10000, 32, 32)\n",
      "test_labels.shape: (10000,)\n"
     ]
    }
   ],
   "source": [
    "(train_images, train_labels), (test_images, test_labels) = datasets.mnist.load_data()\n",
    "class_names = [str(i) for i in range(10)]\n",
    "\n",
    "paddings = tf.constant(((0, 0), (2, 2), (2, 2)))\n",
    "train_images = tf.pad(train_images, paddings, constant_values=0)\n",
    "test_images = tf.pad(test_images, paddings, constant_values=0)\n",
    "\n",
    "print(\"train_images.shape:,\", train_images.shape)\n",
    "print(\"train_labels.shape:\", train_labels.shape)\n",
    "print(\"test_images.shape:\", test_images.shape)\n",
    "print(\"test_labels.shape:\", test_labels.shape)\n",
    "\n",
    "train_images = tf.dtypes.cast(train_images, tf.float32)\n",
    "test_images = tf.dtypes.cast(test_images, tf.float32)\n",
    "train_images, test_images = train_images[..., np.newaxis]/255.0, test_images[..., np.newaxis]/255.0"
   ]
  },
  {
   "cell_type": "code",
   "execution_count": 56,
   "metadata": {},
   "outputs": [
    {
     "name": "stdout",
     "output_type": "stream",
     "text": [
      "Model: \"sequential_15\"\n",
      "_________________________________________________________________\n",
      " Layer (type)                Output Shape              Param #   \n",
      "=================================================================\n",
      " conv2d_26 (Conv2D)          (None, 28, 28, 6)         156       \n",
      "                                                                 \n",
      " average_pooling2d_18 (Avera  (None, 14, 14, 6)        0         \n",
      " gePooling2D)                                                    \n",
      "                                                                 \n",
      " conv2d_27 (Conv2D)          (None, 10, 10, 16)        2416      \n",
      "                                                                 \n",
      " average_pooling2d_19 (Avera  (None, 5, 5, 16)         0         \n",
      " gePooling2D)                                                    \n",
      "                                                                 \n",
      " flatten_7 (Flatten)         (None, 400)               0         \n",
      "                                                                 \n",
      " dense_16 (Dense)            (None, 120)               48120     \n",
      "                                                                 \n",
      " dense_17 (Dense)            (None, 84)                10164     \n",
      "                                                                 \n",
      " dense_18 (Dense)            (None, 10)                850       \n",
      "                                                                 \n",
      "=================================================================\n",
      "Total params: 61,706\n",
      "Trainable params: 61,706\n",
      "Non-trainable params: 0\n",
      "_________________________________________________________________\n",
      "None\n"
     ]
    }
   ],
   "source": [
    "model = models.Sequential()\n",
    "model.add(layers.Convolution2D(6, (5, 5), activation='relu', input_shape=(32, 32,1)))\n",
    "model.add(layers.AveragePooling2D((2, 2)))\n",
    "model.add(layers.Conv2D(16, (5, 5), activation='relu'))\n",
    "model.add(layers.AveragePooling2D((2, 2)))\n",
    "model.add(layers.Flatten())\n",
    "model.add(layers.Dense(120, activation='relu'))\n",
    "model.add(layers.Dense(84, activation='relu'))\n",
    "model.add(layers.Dense(10))\n",
    "\n",
    "model.compile(optimizer=keras.optimizers.Adam(), loss=keras.losses.SparseCategoricalCrossentropy(from_logits=True), metrics=['accuracy'])\n",
    "print(model.summary())"
   ]
  },
  {
   "cell_type": "code",
   "execution_count": 51,
   "metadata": {},
   "outputs": [
    {
     "name": "stdout",
     "output_type": "stream",
     "text": [
      "train_images.shape:, (50000, 32, 32, 3)\n",
      "train_labels.shape: (50000, 1)\n",
      "test_images.shape: (10000, 32, 32, 3)\n",
      "test_labels.shape: (10000, 1)\n"
     ]
    }
   ],
   "source": [
    "(train_images, train_labels), (test_images, test_labels) = datasets.cifar10.load_data()\n",
    "class_names = ['airplane', 'automobile', 'bird', 'cat', 'deer', 'dog', 'frog', 'horse', 'ship', 'truck']\n",
    "\n",
    "train_images, test_images = train_images / 255.0, test_images / 255.0\n",
    "\n",
    "print(\"train_images.shape:,\", train_images.shape)\n",
    "print(\"train_labels.shape:\", train_labels.shape)\n",
    "print(\"test_images.shape:\", test_images.shape)\n",
    "print(\"test_labels.shape:\", test_labels.shape)"
   ]
  },
  {
   "cell_type": "code",
   "execution_count": 59,
   "metadata": {},
   "outputs": [
    {
     "name": "stdout",
     "output_type": "stream",
     "text": [
      "Model: \"sequential_17\"\n",
      "_________________________________________________________________\n",
      " Layer (type)                Output Shape              Param #   \n",
      "=================================================================\n",
      " conv2d_31 (Conv2D)          (None, 28, 28, 32)        2432      \n",
      "                                                                 \n",
      " max_pooling2d_6 (MaxPooling  (None, 14, 14, 32)       0         \n",
      " 2D)                                                             \n",
      "                                                                 \n",
      " conv2d_32 (Conv2D)          (None, 12, 12, 64)        18496     \n",
      "                                                                 \n",
      " max_pooling2d_7 (MaxPooling  (None, 6, 6, 64)         0         \n",
      " 2D)                                                             \n",
      "                                                                 \n",
      " conv2d_33 (Conv2D)          (None, 4, 4, 128)         73856     \n",
      "                                                                 \n",
      " flatten_9 (Flatten)         (None, 2048)              0         \n",
      "                                                                 \n",
      " dense_21 (Dense)            (None, 64)                131136    \n",
      "                                                                 \n",
      " dense_22 (Dense)            (None, 10)                650       \n",
      "                                                                 \n",
      "=================================================================\n",
      "Total params: 226,570\n",
      "Trainable params: 226,570\n",
      "Non-trainable params: 0\n",
      "_________________________________________________________________\n",
      "None\n"
     ]
    }
   ],
   "source": [
    "model = models.Sequential()\n",
    "model.add(layers.Conv2D(32, (5, 5), activation='relu', input_shape=(32, 32, 3)))\n",
    "model.add(layers.MaxPool2D((2, 2)))\n",
    "model.add(layers.Conv2D(64, (3, 3), activation='relu'))\n",
    "model.add(layers.MaxPool2D((2, 2)))\n",
    "model.add(layers.Conv2D(128, (3, 3), activation='relu'))\n",
    "model.add(layers.Flatten())\n",
    "model.add(layers.Dense(64, activation='relu'))\n",
    "model.add(layers.Dense(10))\n",
    "\n",
    "model.compile(optimizer=keras.optimizers.Adam(learning_rate=0.001), loss=keras.losses.SparseCategoricalCrossentropy(from_logits=True), metrics=['accuracy'])\n",
    "print(model.summary())"
   ]
  },
  {
   "cell_type": "code",
   "execution_count": 60,
   "metadata": {},
   "outputs": [
    {
     "name": "stdout",
     "output_type": "stream",
     "text": [
      "Epoch 1/5\n",
      "1563/1563 [==============================] - 48s 31ms/step - loss: 1.5140 - accuracy: 0.4488\n",
      "Epoch 2/5\n",
      "1563/1563 [==============================] - 51s 33ms/step - loss: 1.1575 - accuracy: 0.5914\n",
      "Epoch 3/5\n",
      "1563/1563 [==============================] - 44s 28ms/step - loss: 0.9839 - accuracy: 0.6542\n",
      "Epoch 4/5\n",
      "1563/1563 [==============================] - 44s 28ms/step - loss: 0.8724 - accuracy: 0.6929\n",
      "Epoch 5/5\n",
      "1563/1563 [==============================] - 46s 30ms/step - loss: 0.7826 - accuracy: 0.7265\n",
      "313/313 - 2s - loss: 0.8982 - accuracy: 0.6881 - 2s/epoch - 8ms/step\n"
     ]
    }
   ],
   "source": [
    "model.fit(train_images, train_labels, epochs=5)\n",
    "test_loss, test_acc = model.evaluate(test_images, test_labels, verbose=2)"
   ]
  },
  {
   "cell_type": "code",
   "execution_count": 61,
   "metadata": {},
   "outputs": [
    {
     "name": "stdout",
     "output_type": "stream",
     "text": [
      "train_images.shape:, (60000, 32, 32)\n",
      "train_labels.shape: (60000,)\n",
      "test_images.shape: (10000, 32, 32)\n",
      "test_labels.shape: (10000,)\n",
      "Model: \"sequential_18\"\n",
      "_________________________________________________________________\n",
      " Layer (type)                Output Shape              Param #   \n",
      "=================================================================\n",
      " conv2d_34 (Conv2D)          (None, 30, 30, 32)        320       \n",
      "                                                                 \n",
      " max_pooling2d_8 (MaxPooling  (None, 15, 15, 32)       0         \n",
      " 2D)                                                             \n",
      "                                                                 \n",
      " conv2d_35 (Conv2D)          (None, 13, 13, 64)        18496     \n",
      "                                                                 \n",
      " max_pooling2d_9 (MaxPooling  (None, 6, 6, 64)         0         \n",
      " 2D)                                                             \n",
      "                                                                 \n",
      " conv2d_36 (Conv2D)          (None, 4, 4, 64)          36928     \n",
      "                                                                 \n",
      " flatten_10 (Flatten)        (None, 1024)              0         \n",
      "                                                                 \n",
      " dense_23 (Dense)            (None, 64)                65600     \n",
      "                                                                 \n",
      " dense_24 (Dense)            (None, 10)                650       \n",
      "                                                                 \n",
      "=================================================================\n",
      "Total params: 121,994\n",
      "Trainable params: 121,994\n",
      "Non-trainable params: 0\n",
      "_________________________________________________________________\n",
      "None\n",
      "Epoch 1/2\n",
      "1875/1875 [==============================] - 46s 24ms/step - loss: 0.1306 - accuracy: 0.9595\n",
      "Epoch 2/2\n",
      "1875/1875 [==============================] - 47s 25ms/step - loss: 0.0407 - accuracy: 0.9869\n",
      "313/313 - 2s - loss: 0.0295 - accuracy: 0.9905 - 2s/epoch - 7ms/step\n"
     ]
    }
   ],
   "source": [
    "(train_images, train_labels), (test_images, test_labels) = datasets.mnist.load_data()\n",
    "class_names = [str(i) for i in range(10)]\n",
    "\n",
    "paddings = tf.constant(((0, 0), (2, 2), (2, 2)))\n",
    "train_images = tf.pad(train_images, paddings, constant_values=0)\n",
    "test_images = tf.pad(test_images, paddings, constant_values=0)\n",
    "\n",
    "print(\"train_images.shape:,\", train_images.shape)\n",
    "print(\"train_labels.shape:\", train_labels.shape)\n",
    "print(\"test_images.shape:\", test_images.shape)\n",
    "print(\"test_labels.shape:\", test_labels.shape)\n",
    "\n",
    "train_images = tf.dtypes.cast(train_images, tf.float32)\n",
    "test_images = tf.dtypes.cast(test_images, tf.float32)\n",
    "train_images, test_images = train_images[..., np.newaxis]/255.0, test_images[..., np.newaxis]/255.0\n",
    "\n",
    "model = models.Sequential()\n",
    "model.add(layers.Convolution2D(32, (3, 3), activation='relu', input_shape=(32, 32,1)))\n",
    "model.add(layers.MaxPool2D((2, 2)))\n",
    "model.add(layers.Conv2D(64, (3, 3), activation='relu'))\n",
    "model.add(layers.MaxPool2D((2, 2)))\n",
    "model.add(layers.Conv2D(64, (3, 3), activation='relu'))\n",
    "model.add(layers.Flatten())\n",
    "model.add(layers.Dense(64, activation='relu'))\n",
    "model.add(layers.Dense(10))\n",
    "\n",
    "model.compile(optimizer=keras.optimizers.Adam(), loss=keras.losses.SparseCategoricalCrossentropy(from_logits=True), metrics=['accuracy'])\n",
    "print(model.summary())\n",
    "\n",
    "model.fit(train_images, train_labels, epochs=2)\n",
    "test_loss, test_acc = model.evaluate(test_images, test_labels, verbose=2)\n",
    "model.save_weights('saved_weights/')"
   ]
  },
  {
   "cell_type": "code",
   "execution_count": 64,
   "metadata": {},
   "outputs": [
    {
     "name": "stdout",
     "output_type": "stream",
     "text": [
      "Model: \"sequential_21\"\n",
      "_________________________________________________________________\n",
      " Layer (type)                Output Shape              Param #   \n",
      "=================================================================\n",
      " conv2d_43 (Conv2D)          (None, 30, 30, 32)        320       \n",
      "                                                                 \n",
      " max_pooling2d_14 (MaxPoolin  (None, 15, 15, 32)       0         \n",
      " g2D)                                                            \n",
      "                                                                 \n",
      " conv2d_44 (Conv2D)          (None, 13, 13, 64)        18496     \n",
      "                                                                 \n",
      " max_pooling2d_15 (MaxPoolin  (None, 6, 6, 64)         0         \n",
      " g2D)                                                            \n",
      "                                                                 \n",
      " conv2d_45 (Conv2D)          (None, 4, 4, 64)          36928     \n",
      "                                                                 \n",
      " flatten_13 (Flatten)        (None, 1024)              0         \n",
      "                                                                 \n",
      " dense_29 (Dense)            (None, 64)                65600     \n",
      "                                                                 \n",
      " dense_30 (Dense)            (None, 10)                650       \n",
      "                                                                 \n",
      "=================================================================\n",
      "Total params: 121,994\n",
      "Trainable params: 121,994\n",
      "Non-trainable params: 0\n",
      "_________________________________________________________________\n",
      "None\n",
      "Epoch 1/2\n",
      "1875/1875 [==============================] - 46s 24ms/step - loss: 0.0303 - accuracy: 0.9904\n",
      "Epoch 2/2\n",
      "1875/1875 [==============================] - 44s 23ms/step - loss: 0.0228 - accuracy: 0.9933\n",
      "313/313 - 3s - loss: 0.0286 - accuracy: 0.9917 - 3s/epoch - 8ms/step\n",
      "INFO:tensorflow:Assets written to: saved_model/assets\n"
     ]
    }
   ],
   "source": [
    "model_lw = models.Sequential()\n",
    "model_lw.add(layers.Convolution2D(32, (3, 3), activation='relu', input_shape=(32, 32,1)))\n",
    "model_lw.add(layers.MaxPool2D((2, 2)))\n",
    "model_lw.add(layers.Conv2D(64, (3, 3), activation='relu'))\n",
    "model_lw.add(layers.MaxPool2D((2, 2)))\n",
    "model_lw.add(layers.Conv2D(64, (3, 3), activation='relu'))\n",
    "model_lw.add(layers.Flatten())\n",
    "model_lw.add(layers.Dense(64, activation='relu'))\n",
    "model_lw.add(layers.Dense(10))\n",
    "\n",
    "model_lw.compile(optimizer=keras.optimizers.Adam(), loss=keras.losses.SparseCategoricalCrossentropy(from_logits=True), metrics=['accuracy'])\n",
    "print(model_lw.summary())\n",
    "\n",
    "model_lw.load_weights('saved_weights/')\n",
    "\n",
    "model_lw.fit(train_images, train_labels, epochs=2)\n",
    "test_loss, test_acc = model_lw.evaluate(test_images, test_labels, verbose=2)\n",
    "\n",
    "model_lw.save('saved_model/')"
   ]
  },
  {
   "cell_type": "code",
   "execution_count": 68,
   "metadata": {},
   "outputs": [
    {
     "name": "stdout",
     "output_type": "stream",
     "text": [
      "Model: \"sequential_21\"\n",
      "_________________________________________________________________\n",
      " Layer (type)                Output Shape              Param #   \n",
      "=================================================================\n",
      " conv2d_43 (Conv2D)          (None, 30, 30, 32)        320       \n",
      "                                                                 \n",
      " max_pooling2d_14 (MaxPoolin  (None, 15, 15, 32)       0         \n",
      " g2D)                                                            \n",
      "                                                                 \n",
      " conv2d_44 (Conv2D)          (None, 13, 13, 64)        18496     \n",
      "                                                                 \n",
      " max_pooling2d_15 (MaxPoolin  (None, 6, 6, 64)         0         \n",
      " g2D)                                                            \n",
      "                                                                 \n",
      " conv2d_45 (Conv2D)          (None, 4, 4, 64)          36928     \n",
      "                                                                 \n",
      " flatten_13 (Flatten)        (None, 1024)              0         \n",
      "                                                                 \n",
      " dense_29 (Dense)            (None, 64)                65600     \n",
      "                                                                 \n",
      " dense_30 (Dense)            (None, 10)                650       \n",
      "                                                                 \n",
      "=================================================================\n",
      "Total params: 121,994\n",
      "Trainable params: 121,994\n",
      "Non-trainable params: 0\n",
      "_________________________________________________________________\n",
      "None\n"
     ]
    }
   ],
   "source": [
    "model_ld = models.load_model('saved_model/')\n",
    "print(model_ld.summary())"
   ]
  },
  {
   "cell_type": "code",
   "execution_count": 78,
   "metadata": {},
   "outputs": [
    {
     "name": "stdout",
     "output_type": "stream",
     "text": [
      "Model: \"model_4\"\n",
      "_________________________________________________________________\n",
      " Layer (type)                Output Shape              Param #   \n",
      "=================================================================\n",
      " conv2d_43_input (InputLayer  [(None, 32, 32, 1)]      0         \n",
      " )                                                               \n",
      "                                                                 \n",
      " conv2d_43 (Conv2D)          (None, 30, 30, 32)        320       \n",
      "                                                                 \n",
      " max_pooling2d_14 (MaxPoolin  (None, 15, 15, 32)       0         \n",
      " g2D)                                                            \n",
      "                                                                 \n",
      " conv2d_44 (Conv2D)          (None, 13, 13, 64)        18496     \n",
      "                                                                 \n",
      " max_pooling2d_15 (MaxPoolin  (None, 6, 6, 64)         0         \n",
      " g2D)                                                            \n",
      "                                                                 \n",
      " conv2d_45 (Conv2D)          (None, 4, 4, 64)          36928     \n",
      "                                                                 \n",
      " flatten_13 (Flatten)        (None, 1024)              0         \n",
      "                                                                 \n",
      " dense_29 (Dense)            (None, 64)                65600     \n",
      "                                                                 \n",
      " dense_39 (Dense)            (None, 10)                650       \n",
      "                                                                 \n",
      "=================================================================\n",
      "Total params: 121,994\n",
      "Trainable params: 121,994\n",
      "Non-trainable params: 0\n",
      "_________________________________________________________________\n",
      "None\n",
      "Epoch 1/3\n",
      "1875/1875 - 43s - loss: 0.0997 - accuracy: 0.9747 - 43s/epoch - 23ms/step\n",
      "Epoch 2/3\n",
      "1875/1875 - 44s - loss: 0.0140 - accuracy: 0.9955 - 44s/epoch - 24ms/step\n",
      "Epoch 3/3\n",
      "1875/1875 - 42s - loss: 0.0102 - accuracy: 0.9967 - 42s/epoch - 22ms/step\n",
      "313/313 - 2s - loss: 0.0286 - accuracy: 0.9917 - 2s/epoch - 7ms/step\n"
     ]
    }
   ],
   "source": [
    "base_inputs = model_ld.layers[0].input\n",
    "base_outputs = model_ld.layers[-2].output\n",
    "output = layers.Dense(10)(base_outputs)\n",
    "\n",
    "new_model = keras.Model(inputs=base_inputs, outputs=output)\n",
    "new_model.compile(optimizer=keras.optimizers.Adam(), loss=tf.losses.SparseCategoricalCrossentropy(from_logits=True), metrics=['accuracy'])\n",
    "print(new_model.summary())\n",
    "\n",
    "new_model.fit(train_images, train_labels, epochs=3, verbose=2)\n",
    "test_loss, test_acc = model_lw.evaluate(test_images, test_labels, verbose=2)"
   ]
  },
  {
   "cell_type": "code",
   "execution_count": 79,
   "metadata": {},
   "outputs": [
    {
     "name": "stdout",
     "output_type": "stream",
     "text": [
      "Model: \"model_5\"\n",
      "_________________________________________________________________\n",
      " Layer (type)                Output Shape              Param #   \n",
      "=================================================================\n",
      " conv2d_43_input (InputLayer  [(None, 32, 32, 1)]      0         \n",
      " )                                                               \n",
      "                                                                 \n",
      " conv2d_43 (Conv2D)          (None, 30, 30, 32)        320       \n",
      "                                                                 \n",
      " max_pooling2d_14 (MaxPoolin  (None, 15, 15, 32)       0         \n",
      " g2D)                                                            \n",
      "                                                                 \n",
      " conv2d_44 (Conv2D)          (None, 13, 13, 64)        18496     \n",
      "                                                                 \n",
      " max_pooling2d_15 (MaxPoolin  (None, 6, 6, 64)         0         \n",
      " g2D)                                                            \n",
      "                                                                 \n",
      " conv2d_45 (Conv2D)          (None, 4, 4, 64)          36928     \n",
      "                                                                 \n",
      " flatten_13 (Flatten)        (None, 1024)              0         \n",
      "                                                                 \n",
      " dense_29 (Dense)            (None, 64)                65600     \n",
      "                                                                 \n",
      " dense_40 (Dense)            (None, 10)                650       \n",
      "                                                                 \n",
      "=================================================================\n",
      "Total params: 121,994\n",
      "Trainable params: 650\n",
      "Non-trainable params: 121,344\n",
      "_________________________________________________________________\n",
      "None\n",
      "Epoch 1/3\n",
      "1875/1875 - 12s - loss: 0.1938 - accuracy: 0.9566 - 12s/epoch - 6ms/step\n",
      "Epoch 2/3\n",
      "1875/1875 - 12s - loss: 0.0146 - accuracy: 0.9961 - 12s/epoch - 6ms/step\n",
      "Epoch 3/3\n",
      "1875/1875 - 12s - loss: 0.0106 - accuracy: 0.9969 - 12s/epoch - 6ms/step\n",
      "313/313 - 2s - loss: 0.0286 - accuracy: 0.9917 - 2s/epoch - 7ms/step\n"
     ]
    }
   ],
   "source": [
    "model_for_tl = models.load_model('saved_model/')\n",
    "model_for_tl.trainable = False\n",
    "for layer in model_for_tl.layers:\n",
    "    assert layer.trainable == False\n",
    "\n",
    "base_inputs = model_for_tl.layers[0].input\n",
    "base_outputs = model_for_tl.layers[-2].output\n",
    "output = layers.Dense(10)(base_outputs)\n",
    "\n",
    "new_model = keras.Model(inputs=base_inputs, outputs=output)\n",
    "new_model.compile(optimizer=keras.optimizers.Adam(), loss=tf.losses.SparseCategoricalCrossentropy(from_logits=True), metrics=['accuracy'])\n",
    "print(new_model.summary())\n",
    "\n",
    "new_model.fit(train_images, train_labels, epochs=3, verbose=2)\n",
    "test_loss, test_acc = model_lw.evaluate(test_images, test_labels, verbose=2)"
   ]
  },
  {
   "cell_type": "code",
   "execution_count": 17,
   "metadata": {},
   "outputs": [],
   "source": [
    "model_rs = models.Sequential()\n",
    "model_rs.add(keras.applications.ResNet50V2(include_top=True, weights='imagenet', input_tensor=None, \n",
    "                                            input_shape=None, pooling=None, classes=1000, \n",
    "                                            classifier_activation='softmax'))\n",
    "\n",
    "model_rs.trainable = False\n",
    "for layer in model_rs.layers:\n",
    "    assert layer.trainable == False\n"
   ]
  }
 ],
 "metadata": {
  "interpreter": {
   "hash": "82d4c6f819cf47785f735f902f00da8643513d08dab4f4c7470bccf934b8d2d6"
  },
  "kernelspec": {
   "display_name": "Python 3.7.9 64-bit",
   "language": "python",
   "name": "python3"
  },
  "language_info": {
   "codemirror_mode": {
    "name": "ipython",
    "version": 3
   },
   "file_extension": ".py",
   "mimetype": "text/x-python",
   "name": "python",
   "nbconvert_exporter": "python",
   "pygments_lexer": "ipython3",
   "version": "3.7.9"
  },
  "orig_nbformat": 4
 },
 "nbformat": 4,
 "nbformat_minor": 2
}
